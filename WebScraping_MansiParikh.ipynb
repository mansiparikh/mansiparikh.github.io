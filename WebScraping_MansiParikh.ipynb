{
 "cells": [
  {
   "cell_type": "code",
   "execution_count": 1,
   "metadata": {},
   "outputs": [],
   "source": [
    "import pandas as pd\n",
    "import numpy as np\n",
    "from bs4 import BeautifulSoup\n",
    "import requests"
   ]
  },
  {
   "cell_type": "code",
   "execution_count": 2,
   "metadata": {},
   "outputs": [
    {
     "data": {
      "text/html": [
       "<div>\n",
       "<style scoped>\n",
       "    .dataframe tbody tr th:only-of-type {\n",
       "        vertical-align: middle;\n",
       "    }\n",
       "\n",
       "    .dataframe tbody tr th {\n",
       "        vertical-align: top;\n",
       "    }\n",
       "\n",
       "    .dataframe thead th {\n",
       "        text-align: right;\n",
       "    }\n",
       "</style>\n",
       "<table border=\"1\" class=\"dataframe\">\n",
       "  <thead>\n",
       "    <tr style=\"text-align: right;\">\n",
       "      <th></th>\n",
       "      <th>Company</th>\n",
       "      <th>Website</th>\n",
       "      <th>Address</th>\n",
       "      <th>Phone</th>\n",
       "      <th>Zip</th>\n",
       "    </tr>\n",
       "  </thead>\n",
       "  <tbody>\n",
       "    <tr>\n",
       "      <th>0</th>\n",
       "      <td>Delkor Systems, Inc</td>\n",
       "      <td>www.delkorsystems.com</td>\n",
       "      <td>4300 Round Lake Road W</td>\n",
       "      <td>(800) 328-5558</td>\n",
       "      <td>55112</td>\n",
       "    </tr>\n",
       "    <tr>\n",
       "      <th>1</th>\n",
       "      <td>Liquid Packaging Solutions, Inc</td>\n",
       "      <td>www.liquidpackagingsolution.com</td>\n",
       "      <td>3999 E. Hupp Road, R-43</td>\n",
       "      <td>(219) 393-3600</td>\n",
       "      <td>46350</td>\n",
       "    </tr>\n",
       "    <tr>\n",
       "      <th>2</th>\n",
       "      <td>Great Western Manufacturing</td>\n",
       "      <td>www.gwmfg.com</td>\n",
       "      <td>2017 So. 4th Street</td>\n",
       "      <td>(913) 682-2291</td>\n",
       "      <td>66048</td>\n",
       "    </tr>\n",
       "    <tr>\n",
       "      <th>3</th>\n",
       "      <td>Raque Food Systems LLC</td>\n",
       "      <td>www.raque.com</td>\n",
       "      <td>P.O. Box 99594</td>\n",
       "      <td>(502) 267-9641</td>\n",
       "      <td>40269</td>\n",
       "    </tr>\n",
       "    <tr>\n",
       "      <th>4</th>\n",
       "      <td>GK Machine Inc</td>\n",
       "      <td>www.gkmachine.com</td>\n",
       "      <td>10590 Donald Road NE</td>\n",
       "      <td>(877) 678-5525</td>\n",
       "      <td>97020</td>\n",
       "    </tr>\n",
       "    <tr>\n",
       "      <th>5</th>\n",
       "      <td>Blue Ridge Optics</td>\n",
       "      <td>www.blueridgeoptics.com</td>\n",
       "      <td>1617 Longwood Avenue</td>\n",
       "      <td>(540) 586-8526</td>\n",
       "      <td>24523</td>\n",
       "    </tr>\n",
       "  </tbody>\n",
       "</table>\n",
       "</div>"
      ],
      "text/plain": [
       "                           Company                          Website  \\\n",
       "0              Delkor Systems, Inc            www.delkorsystems.com   \n",
       "1  Liquid Packaging Solutions, Inc  www.liquidpackagingsolution.com   \n",
       "2      Great Western Manufacturing                    www.gwmfg.com   \n",
       "3           Raque Food Systems LLC                    www.raque.com   \n",
       "4                   GK Machine Inc                www.gkmachine.com   \n",
       "5                Blue Ridge Optics          www.blueridgeoptics.com   \n",
       "\n",
       "                   Address            Phone    Zip  \n",
       "0   4300 Round Lake Road W   (800) 328-5558  55112  \n",
       "1  3999 E. Hupp Road, R-43   (219) 393-3600  46350  \n",
       "2      2017 So. 4th Street   (913) 682-2291  66048  \n",
       "3           P.O. Box 99594   (502) 267-9641  40269  \n",
       "4     10590 Donald Road NE   (877) 678-5525  97020  \n",
       "5     1617 Longwood Avenue  (540) 586-8526   24523  "
      ]
     },
     "execution_count": 2,
     "metadata": {},
     "output_type": "execute_result"
    }
   ],
   "source": [
    "df_out = pd.read_excel(\"sample_input.xlsx\")\n",
    "df_out"
   ]
  },
  {
   "cell_type": "code",
   "execution_count": 3,
   "metadata": {},
   "outputs": [
    {
     "data": {
      "text/plain": [
       "Company    object\n",
       "Website    object\n",
       "Address    object\n",
       "Phone      object\n",
       "Zip         int64\n",
       "dtype: object"
      ]
     },
     "execution_count": 3,
     "metadata": {},
     "output_type": "execute_result"
    }
   ],
   "source": [
    "df_out.dtypes"
   ]
  },
  {
   "cell_type": "code",
   "execution_count": 4,
   "metadata": {},
   "outputs": [],
   "source": [
    "df_out.Zip = df_out.Zip.astype(\"str\")"
   ]
  },
  {
   "cell_type": "code",
   "execution_count": 5,
   "metadata": {},
   "outputs": [
    {
     "data": {
      "text/html": [
       "<div>\n",
       "<style scoped>\n",
       "    .dataframe tbody tr th:only-of-type {\n",
       "        vertical-align: middle;\n",
       "    }\n",
       "\n",
       "    .dataframe tbody tr th {\n",
       "        vertical-align: top;\n",
       "    }\n",
       "\n",
       "    .dataframe thead th {\n",
       "        text-align: right;\n",
       "    }\n",
       "</style>\n",
       "<table border=\"1\" class=\"dataframe\">\n",
       "  <thead>\n",
       "    <tr style=\"text-align: right;\">\n",
       "      <th></th>\n",
       "      <th>Company</th>\n",
       "      <th>Website</th>\n",
       "      <th>Address</th>\n",
       "      <th>Phone</th>\n",
       "      <th>Zip</th>\n",
       "    </tr>\n",
       "  </thead>\n",
       "  <tbody>\n",
       "    <tr>\n",
       "      <th>0</th>\n",
       "      <td>Delkor Systems, Inc</td>\n",
       "      <td>www.delkorsystems.com</td>\n",
       "      <td>NaN</td>\n",
       "      <td>NaN</td>\n",
       "      <td>NaN</td>\n",
       "    </tr>\n",
       "    <tr>\n",
       "      <th>1</th>\n",
       "      <td>Liquid Packaging Solutions, Inc</td>\n",
       "      <td>www.liquidpackagingsolution.com</td>\n",
       "      <td>NaN</td>\n",
       "      <td>NaN</td>\n",
       "      <td>NaN</td>\n",
       "    </tr>\n",
       "    <tr>\n",
       "      <th>2</th>\n",
       "      <td>Great Western Manufacturing</td>\n",
       "      <td>www.gwmfg.com</td>\n",
       "      <td>NaN</td>\n",
       "      <td>NaN</td>\n",
       "      <td>NaN</td>\n",
       "    </tr>\n",
       "    <tr>\n",
       "      <th>3</th>\n",
       "      <td>Raque Food Systems LLC</td>\n",
       "      <td>www.raque.com</td>\n",
       "      <td>NaN</td>\n",
       "      <td>NaN</td>\n",
       "      <td>NaN</td>\n",
       "    </tr>\n",
       "    <tr>\n",
       "      <th>4</th>\n",
       "      <td>GK Machine Inc</td>\n",
       "      <td>www.gkmachine.com</td>\n",
       "      <td>NaN</td>\n",
       "      <td>NaN</td>\n",
       "      <td>NaN</td>\n",
       "    </tr>\n",
       "    <tr>\n",
       "      <th>5</th>\n",
       "      <td>Blue Ridge Optics</td>\n",
       "      <td>www.blueridgeoptics.com</td>\n",
       "      <td>NaN</td>\n",
       "      <td>NaN</td>\n",
       "      <td>NaN</td>\n",
       "    </tr>\n",
       "  </tbody>\n",
       "</table>\n",
       "</div>"
      ],
      "text/plain": [
       "                           Company                          Website  Address  \\\n",
       "0              Delkor Systems, Inc            www.delkorsystems.com      NaN   \n",
       "1  Liquid Packaging Solutions, Inc  www.liquidpackagingsolution.com      NaN   \n",
       "2      Great Western Manufacturing                    www.gwmfg.com      NaN   \n",
       "3           Raque Food Systems LLC                    www.raque.com      NaN   \n",
       "4                   GK Machine Inc                www.gkmachine.com      NaN   \n",
       "5                Blue Ridge Optics          www.blueridgeoptics.com      NaN   \n",
       "\n",
       "   Phone  Zip  \n",
       "0    NaN  NaN  \n",
       "1    NaN  NaN  \n",
       "2    NaN  NaN  \n",
       "3    NaN  NaN  \n",
       "4    NaN  NaN  \n",
       "5    NaN  NaN  "
      ]
     },
     "execution_count": 5,
     "metadata": {},
     "output_type": "execute_result"
    }
   ],
   "source": [
    "df = pd.read_excel(\"sample_output.xlsx\")\n",
    "df"
   ]
  },
  {
   "cell_type": "code",
   "execution_count": 6,
   "metadata": {},
   "outputs": [
    {
     "data": {
      "text/html": [
       "<div>\n",
       "<style scoped>\n",
       "    .dataframe tbody tr th:only-of-type {\n",
       "        vertical-align: middle;\n",
       "    }\n",
       "\n",
       "    .dataframe tbody tr th {\n",
       "        vertical-align: top;\n",
       "    }\n",
       "\n",
       "    .dataframe thead th {\n",
       "        text-align: right;\n",
       "    }\n",
       "</style>\n",
       "<table border=\"1\" class=\"dataframe\">\n",
       "  <thead>\n",
       "    <tr style=\"text-align: right;\">\n",
       "      <th></th>\n",
       "      <th>Company</th>\n",
       "      <th>Website</th>\n",
       "      <th>Address</th>\n",
       "      <th>Phone</th>\n",
       "      <th>Zip</th>\n",
       "      <th>Company 2</th>\n",
       "    </tr>\n",
       "  </thead>\n",
       "  <tbody>\n",
       "    <tr>\n",
       "      <th>0</th>\n",
       "      <td>Delkor Systems, Inc</td>\n",
       "      <td>www.delkorsystems.com</td>\n",
       "      <td>NaN</td>\n",
       "      <td>NaN</td>\n",
       "      <td>NaN</td>\n",
       "      <td>Delkor Systems</td>\n",
       "    </tr>\n",
       "    <tr>\n",
       "      <th>1</th>\n",
       "      <td>Liquid Packaging Solutions, Inc</td>\n",
       "      <td>www.liquidpackagingsolution.com</td>\n",
       "      <td>NaN</td>\n",
       "      <td>NaN</td>\n",
       "      <td>NaN</td>\n",
       "      <td>Liquid Packaging Solutions</td>\n",
       "    </tr>\n",
       "    <tr>\n",
       "      <th>2</th>\n",
       "      <td>Great Western Manufacturing</td>\n",
       "      <td>www.gwmfg.com</td>\n",
       "      <td>NaN</td>\n",
       "      <td>NaN</td>\n",
       "      <td>NaN</td>\n",
       "      <td>Great Western Manufacturing</td>\n",
       "    </tr>\n",
       "    <tr>\n",
       "      <th>3</th>\n",
       "      <td>Raque Food Systems LLC</td>\n",
       "      <td>www.raque.com</td>\n",
       "      <td>NaN</td>\n",
       "      <td>NaN</td>\n",
       "      <td>NaN</td>\n",
       "      <td>Raque Food Systems</td>\n",
       "    </tr>\n",
       "  </tbody>\n",
       "</table>\n",
       "</div>"
      ],
      "text/plain": [
       "                           Company                          Website  Address  \\\n",
       "0              Delkor Systems, Inc            www.delkorsystems.com      NaN   \n",
       "1  Liquid Packaging Solutions, Inc  www.liquidpackagingsolution.com      NaN   \n",
       "2      Great Western Manufacturing                    www.gwmfg.com      NaN   \n",
       "3           Raque Food Systems LLC                    www.raque.com      NaN   \n",
       "\n",
       "   Phone  Zip                    Company 2  \n",
       "0    NaN  NaN               Delkor Systems  \n",
       "1    NaN  NaN   Liquid Packaging Solutions  \n",
       "2    NaN  NaN  Great Western Manufacturing  \n",
       "3    NaN  NaN           Raque Food Systems  "
      ]
     },
     "execution_count": 6,
     "metadata": {},
     "output_type": "execute_result"
    }
   ],
   "source": [
    "# altnerative company name\n",
    "df[\"Company 2\"] = df[\"Company\"].replace(',','', regex=True)\n",
    "df[\"Company 2\"] = [x.rsplit(\" \",1)[0] if (\"llc\" in x.lower() or \"inc\" in x.lower()) else x for x in df[\"Company 2\"]]\n",
    "df.head(4)"
   ]
  },
  {
   "cell_type": "code",
   "execution_count": 7,
   "metadata": {},
   "outputs": [],
   "source": [
    "def googleSearch(query):\n",
    "    with requests.session() as c:\n",
    "        url = 'https://www.google.com/search'\n",
    "        query = {'q': query}\n",
    "        urllink = requests.get(url, params=query)\n",
    "        return urllink.url"
   ]
  },
  {
   "cell_type": "code",
   "execution_count": 8,
   "metadata": {},
   "outputs": [],
   "source": [
    "df[\"HTML\"] = [BeautifulSoup(requests.get(googleSearch(x)).content, 'html.parser')\\\n",
    "                 .find(text='Address').parent.parent.parent.parent.parent\\\n",
    "                 if type(BeautifulSoup(requests.get(googleSearch(x)).content, 'html.parser')\\\n",
    "                 .find(text='Address')) != type(None) else None\\\n",
    "                 for x in df['Company']]"
   ]
  },
  {
   "cell_type": "code",
   "execution_count": 9,
   "metadata": {},
   "outputs": [],
   "source": [
    "df[\"HTML 2\"] = [BeautifulSoup(requests.get(googleSearch(x)).content, 'html.parser')\\\n",
    "                 .find(text='Address').parent.parent.parent.parent.parent\\\n",
    "                 if type(BeautifulSoup(requests.get(googleSearch(x)).content, 'html.parser')\\\n",
    "                 .find(text='Address')) != type(None) else None\\\n",
    "                 for x in df['Company 2']]"
   ]
  },
  {
   "cell_type": "code",
   "execution_count": 10,
   "metadata": {},
   "outputs": [],
   "source": [
    "df[\"Address HTML\"] = df[\"HTML\"].apply(lambda x: x.contents[0].contents[0].contents[2].select_one('span').text.strip()\\\n",
    "                                     if type(x) != type(None) else None)\n",
    "df[\"Address HTML 2\"] = df[\"HTML 2\"].apply(lambda x: x.contents[0].contents[0].contents[2].select_one('span').text.strip()\\\n",
    "                                     if type(x) != type(None) else None)"
   ]
  },
  {
   "cell_type": "code",
   "execution_count": 11,
   "metadata": {},
   "outputs": [],
   "source": [
    "df[\"Phone HTML\"] = df[\"HTML\"].apply(lambda x: x.contents[2].contents[0].contents[2].select_one('span').text.strip()\\\n",
    "                                     if type(x) != type(None) else None)\n",
    "df[\"Phone HTML 2\"] = df[\"HTML 2\"].apply(lambda x: x.contents[2].contents[0].contents[2].select_one('span').text.strip()\\\n",
    "                                     if type(x) != type(None) else None)"
   ]
  },
  {
   "cell_type": "code",
   "execution_count": 12,
   "metadata": {},
   "outputs": [],
   "source": [
    "df['Phone'] = df['Phone HTML'].combine_first(df['Phone HTML 2'])\n",
    "df['Address'] = df['Address HTML'].combine_first(df['Address HTML 2'])\n",
    "\n",
    "df[\"Zip\"] = [x.rsplit(\" \",1)[1].strip() for x in df[\"Address\"]]\n",
    "df[\"Address\"] = [x.split(\",\",1)[0] for x in df[\"Address\"]]\n",
    "\n",
    "df.drop(['HTML', 'HTML 2', 'Phone HTML', 'Phone HTML 2', 'Address HTML', 'Address HTML 2', 'Company 2'], \\\n",
    "        axis=1, inplace=True)"
   ]
  },
  {
   "cell_type": "code",
   "execution_count": 13,
   "metadata": {},
   "outputs": [
    {
     "data": {
      "text/html": [
       "<div>\n",
       "<style scoped>\n",
       "    .dataframe tbody tr th:only-of-type {\n",
       "        vertical-align: middle;\n",
       "    }\n",
       "\n",
       "    .dataframe tbody tr th {\n",
       "        vertical-align: top;\n",
       "    }\n",
       "\n",
       "    .dataframe thead th {\n",
       "        text-align: right;\n",
       "    }\n",
       "</style>\n",
       "<table border=\"1\" class=\"dataframe\">\n",
       "  <thead>\n",
       "    <tr style=\"text-align: right;\">\n",
       "      <th></th>\n",
       "      <th>Company</th>\n",
       "      <th>Website</th>\n",
       "      <th>Address</th>\n",
       "      <th>Phone</th>\n",
       "      <th>Zip</th>\n",
       "    </tr>\n",
       "  </thead>\n",
       "  <tbody>\n",
       "    <tr>\n",
       "      <th>0</th>\n",
       "      <td>True</td>\n",
       "      <td>True</td>\n",
       "      <td>False</td>\n",
       "      <td>True</td>\n",
       "      <td>True</td>\n",
       "    </tr>\n",
       "    <tr>\n",
       "      <th>1</th>\n",
       "      <td>True</td>\n",
       "      <td>True</td>\n",
       "      <td>False</td>\n",
       "      <td>True</td>\n",
       "      <td>True</td>\n",
       "    </tr>\n",
       "    <tr>\n",
       "      <th>2</th>\n",
       "      <td>True</td>\n",
       "      <td>True</td>\n",
       "      <td>False</td>\n",
       "      <td>True</td>\n",
       "      <td>True</td>\n",
       "    </tr>\n",
       "    <tr>\n",
       "      <th>3</th>\n",
       "      <td>True</td>\n",
       "      <td>True</td>\n",
       "      <td>False</td>\n",
       "      <td>True</td>\n",
       "      <td>False</td>\n",
       "    </tr>\n",
       "    <tr>\n",
       "      <th>4</th>\n",
       "      <td>True</td>\n",
       "      <td>True</td>\n",
       "      <td>False</td>\n",
       "      <td>False</td>\n",
       "      <td>True</td>\n",
       "    </tr>\n",
       "    <tr>\n",
       "      <th>5</th>\n",
       "      <td>True</td>\n",
       "      <td>True</td>\n",
       "      <td>False</td>\n",
       "      <td>False</td>\n",
       "      <td>True</td>\n",
       "    </tr>\n",
       "  </tbody>\n",
       "</table>\n",
       "</div>"
      ],
      "text/plain": [
       "   Company  Website  Address  Phone    Zip\n",
       "0     True     True    False   True   True\n",
       "1     True     True    False   True   True\n",
       "2     True     True    False   True   True\n",
       "3     True     True    False   True  False\n",
       "4     True     True    False  False   True\n",
       "5     True     True    False  False   True"
      ]
     },
     "execution_count": 13,
     "metadata": {},
     "output_type": "execute_result"
    }
   ],
   "source": [
    "df == df_out"
   ]
  },
  {
   "cell_type": "code",
   "execution_count": 15,
   "metadata": {},
   "outputs": [],
   "source": [
    "df.to_csv('df.csv')"
   ]
  },
  {
   "cell_type": "code",
   "execution_count": 14,
   "metadata": {},
   "outputs": [],
   "source": [
    "# BeautifulSoup(requests.get(googleSearch(x)).content, 'html.parser').find(text='Website').parent.parent"
   ]
  }
 ],
 "metadata": {
  "kernelspec": {
   "display_name": "Python 3",
   "language": "python",
   "name": "python3"
  },
  "language_info": {
   "codemirror_mode": {
    "name": "ipython",
    "version": 3
   },
   "file_extension": ".py",
   "mimetype": "text/x-python",
   "name": "python",
   "nbconvert_exporter": "python",
   "pygments_lexer": "ipython3",
   "version": "3.6.7"
  }
 },
 "nbformat": 4,
 "nbformat_minor": 2
}
