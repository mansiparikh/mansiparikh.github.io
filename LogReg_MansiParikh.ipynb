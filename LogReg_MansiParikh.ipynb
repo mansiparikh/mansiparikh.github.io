{
 "cells": [
  {
   "cell_type": "markdown",
   "metadata": {},
   "source": [
    "# Determining the Likelihood of Flight Occupancy"
   ]
  },
  {
   "cell_type": "markdown",
   "metadata": {},
   "source": [
    "## Summary"
   ]
  },
  {
   "cell_type": "markdown",
   "metadata": {},
   "source": [
    "Through the use of the logistic regression, which I know to work well on sparse data matrices (as this in some way is based on how I chose to associated attributes with the unit of analysis), I tried to determine the probability of flight occupancy. Data provided for training was of flights from June 2019 through mid-December 2019, and the flights with unknown occupancy status were those that happened from mid-December to the end of 2019.\n",
    "\n",
    "I first made some preliminary views so that I could see if there was class imbalance as well as if what needed to be predicted was something that could vary with the time of the year just given the way that travel and vacationing happens in the U.S.: it is time-dependent and has peaks and dips at some of the same times every year. Both ended up being no in the end. The initial data set was rather bare, only really having the most basic details of every flight so some features needed to be created off the departure and arrival datetime values, and in particular, I created a variable that represented flight time in hours given that all the flights ranged from a little under an hour to a little over four. I then binned this variable since looking at decimal values would make the variable too fine for this rather small data set. \n",
    "\n",
    "Other feature engineering that could have been done off the time variables would be to have calculated day of week (Sunday-Saturday) as well as time of day when the flight took place (morning, afternoon, evening, etc.) since occupancy probably varies with those other time-based variables, though there didn't seem to be a clear weekly pattern based on the daily line chart. \n",
    "\n",
    "In the end, after running the logreg, we yielded an ROC AUC of .71, which is acceptable since it's not abysmally low but also doesn't suggest that the model is overfitted. Given what I know about WheelsUp, it's likely that competitors are operating in a similar way, using local airports and all, and so I used the L2 penalty so as to not completely eliminate variables with little frequency in the flight records. When applying the output to the out-of-sample prediction set, the results of both classes (occupied and not occupied) were about the same as in the training set. In the future, I would use grid search and cross-validation in an automated way to ensure that this one run of the model is accurate, though I at least attempted a manual version of grid search this time."
   ]
  },
  {
   "cell_type": "markdown",
   "metadata": {},
   "source": [
    "## Initial Steps: importing libraries, loading data, observing attributes (EDA, feature eng.)"
   ]
  },
  {
   "cell_type": "code",
   "execution_count": 1,
   "metadata": {},
   "outputs": [],
   "source": [
    "import pandas as pd\n",
    "import numpy as np\n",
    "import seaborn as sns\n",
    "from sklearn.feature_extraction import DictVectorizer\n",
    "from sklearn.model_selection import train_test_split\n",
    "from sklearn.linear_model import LogisticRegression\n",
    "from sklearn.metrics import roc_auc_score\n",
    "\n",
    "# from sklearn.model_selection import GridSearchCV"
   ]
  },
  {
   "cell_type": "code",
   "execution_count": 2,
   "metadata": {},
   "outputs": [],
   "source": [
    "training = pd.read_excel(\"DATASET.xlsx\", sheet_name = 'training')\n",
    "prediction = pd.read_excel(\"DATASET.xlsx\", sheet_name = 'prediction')"
   ]
  },
  {
   "cell_type": "code",
   "execution_count": 3,
   "metadata": {},
   "outputs": [
    {
     "data": {
      "text/html": [
       "<div>\n",
       "<style scoped>\n",
       "    .dataframe tbody tr th:only-of-type {\n",
       "        vertical-align: middle;\n",
       "    }\n",
       "\n",
       "    .dataframe tbody tr th {\n",
       "        vertical-align: top;\n",
       "    }\n",
       "\n",
       "    .dataframe thead th {\n",
       "        text-align: right;\n",
       "    }\n",
       "</style>\n",
       "<table border=\"1\" class=\"dataframe\">\n",
       "  <thead>\n",
       "    <tr style=\"text-align: right;\">\n",
       "      <th></th>\n",
       "      <th>ID</th>\n",
       "      <th>AIRCRAFT</th>\n",
       "      <th>FROMAIRPORT</th>\n",
       "      <th>TOAIRPORT</th>\n",
       "      <th>DEPARTURETIMEUTC</th>\n",
       "      <th>ARRTIMEUTC</th>\n",
       "      <th>OCCUPIED_FLAG</th>\n",
       "    </tr>\n",
       "  </thead>\n",
       "  <tbody>\n",
       "    <tr>\n",
       "      <th>0</th>\n",
       "      <td>1</td>\n",
       "      <td>NRG001</td>\n",
       "      <td>KTTN</td>\n",
       "      <td>KSPI</td>\n",
       "      <td>2019/06/02 11:17</td>\n",
       "      <td>2019/06/02 13:29</td>\n",
       "      <td>0</td>\n",
       "    </tr>\n",
       "    <tr>\n",
       "      <th>1</th>\n",
       "      <td>2</td>\n",
       "      <td>NRG001</td>\n",
       "      <td>KSPI</td>\n",
       "      <td>KAPF</td>\n",
       "      <td>2019/06/02 14:50</td>\n",
       "      <td>2019/06/02 17:15</td>\n",
       "      <td>1</td>\n",
       "    </tr>\n",
       "    <tr>\n",
       "      <th>2</th>\n",
       "      <td>3</td>\n",
       "      <td>NRG001</td>\n",
       "      <td>KAPF</td>\n",
       "      <td>KFDK</td>\n",
       "      <td>2019/06/02 18:52</td>\n",
       "      <td>2019/06/02 21:36</td>\n",
       "      <td>1</td>\n",
       "    </tr>\n",
       "  </tbody>\n",
       "</table>\n",
       "</div>"
      ],
      "text/plain": [
       "   ID AIRCRAFT FROMAIRPORT TOAIRPORT  DEPARTURETIMEUTC        ARRTIMEUTC  \\\n",
       "0   1   NRG001        KTTN      KSPI  2019/06/02 11:17  2019/06/02 13:29   \n",
       "1   2   NRG001        KSPI      KAPF  2019/06/02 14:50  2019/06/02 17:15   \n",
       "2   3   NRG001        KAPF      KFDK  2019/06/02 18:52  2019/06/02 21:36   \n",
       "\n",
       "   OCCUPIED_FLAG  \n",
       "0              0  \n",
       "1              1  \n",
       "2              1  "
      ]
     },
     "metadata": {},
     "output_type": "display_data"
    },
    {
     "data": {
      "text/plain": [
       "ID                   int64\n",
       "AIRCRAFT            object\n",
       "FROMAIRPORT         object\n",
       "TOAIRPORT           object\n",
       "DEPARTURETIMEUTC    object\n",
       "ARRTIMEUTC          object\n",
       "OCCUPIED_FLAG        int64\n",
       "dtype: object"
      ]
     },
     "execution_count": 3,
     "metadata": {},
     "output_type": "execute_result"
    }
   ],
   "source": [
    "display(training.head(3))\n",
    "training.dtypes"
   ]
  },
  {
   "cell_type": "code",
   "execution_count": 4,
   "metadata": {},
   "outputs": [
    {
     "data": {
      "text/plain": [
       "<AxesSubplot:xlabel='OCCUPIED_FLAG'>"
      ]
     },
     "execution_count": 4,
     "metadata": {},
     "output_type": "execute_result"
    },
    {
     "data": {
      "image/png": "[encoded data removed]",
      "text/plain": [
       "<Figure size 432x288 with 1 Axes>"
      ]
     },
     "metadata": {
      "needs_background": "light"
     },
     "output_type": "display_data"
    }
   ],
   "source": [
    "# to see class distribution\n",
    "training.groupby('OCCUPIED_FLAG').size().plot.bar()"
   ]
  },
  {
   "cell_type": "code",
   "execution_count": 5,
   "metadata": {},
   "outputs": [],
   "source": [
    "# datetime updates and new feature creation\n",
    "def date_transformations(df):\n",
    "    df['DEPARTURETIMEUTC'] = pd.to_datetime(df['DEPARTURETIMEUTC'], format='%Y/%m/%d %H:%M')\n",
    "    df['ARRTIMEUTC'] = pd.to_datetime(df['ARRTIMEUTC'], format='%Y/%m/%d %H:%M')\n",
    "    df[\"AirTime\"] = (df['ARRTIMEUTC'] - df['DEPARTURETIMEUTC']).astype('timedelta64[m]')/60"
   ]
  },
  {
   "cell_type": "code",
   "execution_count": 6,
   "metadata": {},
   "outputs": [
    {
     "data": {
      "text/plain": [
       "ID                           int64\n",
       "AIRCRAFT                    object\n",
       "FROMAIRPORT                 object\n",
       "TOAIRPORT                   object\n",
       "DEPARTURETIMEUTC    datetime64[ns]\n",
       "ARRTIMEUTC          datetime64[ns]\n",
       "AirTime                    float64\n",
       "dtype: object"
      ]
     },
     "execution_count": 6,
     "metadata": {},
     "output_type": "execute_result"
    }
   ],
   "source": [
    "date_transformations(training)\n",
    "date_transformations(prediction)\n",
    "prediction.dtypes"
   ]
  },
  {
   "cell_type": "code",
   "execution_count": 7,
   "metadata": {},
   "outputs": [
    {
     "data": {
      "text/plain": [
       "[2.2,\n",
       " 2.4166666666666665,\n",
       " 2.7333333333333334,\n",
       " 1.2,\n",
       " 2.566666666666667,\n",
       " 2.15,\n",
       " 2.7,\n",
       " 2.0]"
      ]
     },
     "execution_count": 7,
     "metadata": {},
     "output_type": "execute_result"
    }
   ],
   "source": [
    "training[\"AirTime\"].head(8).to_list()"
   ]
  },
  {
   "cell_type": "code",
   "execution_count": 8,
   "metadata": {
    "scrolled": true
   },
   "outputs": [
    {
     "data": {
      "text/plain": [
       "count    7590.000000\n",
       "mean        1.481682\n",
       "std         0.645475\n",
       "min         0.200000\n",
       "25%         0.983333\n",
       "50%         1.400000\n",
       "75%         1.900000\n",
       "max         4.100000\n",
       "Name: AirTime, dtype: float64"
      ]
     },
     "execution_count": 8,
     "metadata": {},
     "output_type": "execute_result"
    }
   ],
   "source": [
    "# summary statistics of the constructed variable, flight time in hours\n",
    "training[\"AirTime\"].describe()"
   ]
  },
  {
   "cell_type": "code",
   "execution_count": 9,
   "metadata": {
    "scrolled": true
   },
   "outputs": [
    {
     "data": {
      "text/plain": [
       "<AxesSubplot:ylabel='Frequency'>"
      ]
     },
     "execution_count": 9,
     "metadata": {},
     "output_type": "execute_result"
    },
    {
     "data": {
      "image/png": "[encoded data removed]",
      "text/plain": [
       "<Figure size 432x288 with 1 Axes>"
      ]
     },
     "metadata": {
      "needs_background": "light"
     },
     "output_type": "display_data"
    }
   ],
   "source": [
    "# seeing the distribution of flight times across all flights in the sample and not in the sample \n",
    "# the second one for a similar reason to that of seeing aircraft types above\n",
    "training[\"AirTime\"].plot(kind='hist')\n",
    "# prediction[\"AirTime\"].plot(kind='hist')"
   ]
  },
  {
   "cell_type": "code",
   "execution_count": 10,
   "metadata": {},
   "outputs": [],
   "source": [
    "# binning flight time based on actual values rather than the range of the data set which can change over time\n",
    "training[\"AirTime_bin\"] = np.digitize(training[\"AirTime\"],[.5,1.0,1.5,2,2.5,3,3.5,4.0,4.5])\n",
    "prediction[\"AirTime_bin\"] = np.digitize(prediction[\"AirTime\"],[.5,1.0,1.5,2,2.5,3,3.5,4.0,4.5])"
   ]
  },
  {
   "cell_type": "code",
   "execution_count": 11,
   "metadata": {
    "scrolled": true
   },
   "outputs": [
    {
     "data": {
      "text/plain": [
       "0       4\n",
       "1       4\n",
       "2       5\n",
       "3       2\n",
       "4       5\n",
       "       ..\n",
       "7585    2\n",
       "7586    3\n",
       "7587    2\n",
       "7588    3\n",
       "7589    5\n",
       "Name: AirTime_bin, Length: 7590, dtype: int64"
      ]
     },
     "execution_count": 11,
     "metadata": {},
     "output_type": "execute_result"
    }
   ],
   "source": [
    "# observing the result of new interval creation\n",
    "training[\"AirTime_bin\"]"
   ]
  },
  {
   "cell_type": "code",
   "execution_count": 12,
   "metadata": {},
   "outputs": [
    {
     "data": {
      "text/plain": [
       "<AxesSubplot:xlabel='DEPARTURETIMEUTC'>"
      ]
     },
     "execution_count": 12,
     "metadata": {},
     "output_type": "execute_result"
    },
    {
     "data": {
      "image/png": "[encoded data removed]",
      "text/plain": [
       "<Figure size 720x360 with 1 Axes>"
      ]
     },
     "metadata": {
      "needs_background": "light"
     },
     "output_type": "display_data"
    }
   ],
   "source": [
    "# trying to see patterns of daily flights over the time frame of the data set\n",
    "training_counts = training.groupby(training[\"DEPARTURETIMEUTC\"].dt.to_period('D')).size()\n",
    "prediction_counts = prediction.groupby(prediction[\"DEPARTURETIMEUTC\"].dt.to_period('D')).size()\n",
    "\n",
    "daily_flights = pd.concat([training_counts,prediction_counts])\n",
    "daily_flights.plot.line(figsize=(10,5))"
   ]
  },
  {
   "cell_type": "code",
   "execution_count": 13,
   "metadata": {},
   "outputs": [
    {
     "data": {
      "text/html": [
       "<div>\n",
       "<style scoped>\n",
       "    .dataframe tbody tr th:only-of-type {\n",
       "        vertical-align: middle;\n",
       "    }\n",
       "\n",
       "    .dataframe tbody tr th {\n",
       "        vertical-align: top;\n",
       "    }\n",
       "\n",
       "    .dataframe thead th {\n",
       "        text-align: right;\n",
       "    }\n",
       "</style>\n",
       "<table border=\"1\" class=\"dataframe\">\n",
       "  <thead>\n",
       "    <tr style=\"text-align: right;\">\n",
       "      <th></th>\n",
       "      <th>ID</th>\n",
       "      <th>OCCUPIED_FLAG</th>\n",
       "      <th>OccupRate</th>\n",
       "    </tr>\n",
       "    <tr>\n",
       "      <th>DEPARTURETIMEUTC</th>\n",
       "      <th></th>\n",
       "      <th></th>\n",
       "      <th></th>\n",
       "    </tr>\n",
       "  </thead>\n",
       "  <tbody>\n",
       "    <tr>\n",
       "      <th>2019-06-01</th>\n",
       "      <td>32</td>\n",
       "      <td>17</td>\n",
       "      <td>0.531250</td>\n",
       "    </tr>\n",
       "    <tr>\n",
       "      <th>2019-06-02</th>\n",
       "      <td>42</td>\n",
       "      <td>23</td>\n",
       "      <td>0.547619</td>\n",
       "    </tr>\n",
       "    <tr>\n",
       "      <th>2019-06-03</th>\n",
       "      <td>28</td>\n",
       "      <td>14</td>\n",
       "      <td>0.500000</td>\n",
       "    </tr>\n",
       "    <tr>\n",
       "      <th>2019-06-04</th>\n",
       "      <td>26</td>\n",
       "      <td>19</td>\n",
       "      <td>0.730769</td>\n",
       "    </tr>\n",
       "    <tr>\n",
       "      <th>2019-06-05</th>\n",
       "      <td>32</td>\n",
       "      <td>16</td>\n",
       "      <td>0.500000</td>\n",
       "    </tr>\n",
       "    <tr>\n",
       "      <th>...</th>\n",
       "      <td>...</td>\n",
       "      <td>...</td>\n",
       "      <td>...</td>\n",
       "    </tr>\n",
       "    <tr>\n",
       "      <th>2019-12-10</th>\n",
       "      <td>40</td>\n",
       "      <td>22</td>\n",
       "      <td>0.550000</td>\n",
       "    </tr>\n",
       "    <tr>\n",
       "      <th>2019-12-11</th>\n",
       "      <td>37</td>\n",
       "      <td>23</td>\n",
       "      <td>0.621622</td>\n",
       "    </tr>\n",
       "    <tr>\n",
       "      <th>2019-12-12</th>\n",
       "      <td>31</td>\n",
       "      <td>18</td>\n",
       "      <td>0.580645</td>\n",
       "    </tr>\n",
       "    <tr>\n",
       "      <th>2019-12-13</th>\n",
       "      <td>40</td>\n",
       "      <td>23</td>\n",
       "      <td>0.575000</td>\n",
       "    </tr>\n",
       "    <tr>\n",
       "      <th>2019-12-14</th>\n",
       "      <td>24</td>\n",
       "      <td>17</td>\n",
       "      <td>0.708333</td>\n",
       "    </tr>\n",
       "  </tbody>\n",
       "</table>\n",
       "<p>197 rows × 3 columns</p>\n",
       "</div>"
      ],
      "text/plain": [
       "                  ID  OCCUPIED_FLAG  OccupRate\n",
       "DEPARTURETIMEUTC                              \n",
       "2019-06-01        32             17   0.531250\n",
       "2019-06-02        42             23   0.547619\n",
       "2019-06-03        28             14   0.500000\n",
       "2019-06-04        26             19   0.730769\n",
       "2019-06-05        32             16   0.500000\n",
       "...               ..            ...        ...\n",
       "2019-12-10        40             22   0.550000\n",
       "2019-12-11        37             23   0.621622\n",
       "2019-12-12        31             18   0.580645\n",
       "2019-12-13        40             23   0.575000\n",
       "2019-12-14        24             17   0.708333\n",
       "\n",
       "[197 rows x 3 columns]"
      ]
     },
     "execution_count": 13,
     "metadata": {},
     "output_type": "execute_result"
    }
   ],
   "source": [
    "# calculating the number of flights that were actually occupied daily\n",
    "training_occup = training.groupby(training[\"DEPARTURETIMEUTC\"].dt.to_period('D')).agg({'ID':'count',\n",
    "                                                                                       'OCCUPIED_FLAG':'sum'})\n",
    "training_occup[\"OccupRate\"] = training_occup['OCCUPIED_FLAG'] / training_occup['ID']\n",
    "training_occup"
   ]
  },
  {
   "cell_type": "code",
   "execution_count": 14,
   "metadata": {},
   "outputs": [
    {
     "data": {
      "text/plain": [
       "<AxesSubplot:xlabel='DEPARTURETIMEUTC'>"
      ]
     },
     "execution_count": 14,
     "metadata": {},
     "output_type": "execute_result"
    },
    {
     "data": {
      "image/png": "[encoded data removed]",
      "text/plain": [
       "<Figure size 720x360 with 1 Axes>"
      ]
     },
     "metadata": {
      "needs_background": "light"
     },
     "output_type": "display_data"
    }
   ],
   "source": [
    "# occupancy rate doesn't seem to vary throughout the (second half of the) year\n",
    "training_occup[[\"OccupRate\"]].plot.line(figsize=(10,5))"
   ]
  },
  {
   "cell_type": "code",
   "execution_count": 15,
   "metadata": {},
   "outputs": [
    {
     "data": {
      "text/plain": [
       "array(['NRG001', 'NRG002', 'NRG003', 'NRG004', 'NRG005', 'NRG006',\n",
       "       'NRG007', 'NRG008', 'NRG009', 'NRG010', 'NRG011', 'NRG012',\n",
       "       'NRG013', 'NRG014', 'NRG015', 'NRG016', 'NRG017', 'NRG018',\n",
       "       'NRG019', 'NRG020', 'NRG021', 'NRG022', 'NRG023', 'NRG024',\n",
       "       'NRG025', 'NRG026', 'NRG027'], dtype=object)"
      ]
     },
     "metadata": {},
     "output_type": "display_data"
    },
    {
     "data": {
      "text/plain": [
       "array(['NRG001', 'NRG002', 'NRG003', 'NRG004', 'NRG005', 'NRG006',\n",
       "       'NRG007', 'NRG008', 'NRG009', 'NRG010', 'NRG011', 'NRG012',\n",
       "       'NRG013', 'NRG014', 'NRG015', 'NRG016', 'NRG017', 'NRG018',\n",
       "       'NRG020', 'NRG021', 'NRG022', 'NRG023', 'NRG024', 'NRG025'],\n",
       "      dtype=object)"
      ]
     },
     "metadata": {},
     "output_type": "display_data"
    }
   ],
   "source": [
    "# to see if the same set of aircraft types exist in both data sets; if not, would be a bad set of variables to use\n",
    "display(training.AIRCRAFT.unique())\n",
    "display(prediction.AIRCRAFT.unique())"
   ]
  },
  {
   "cell_type": "markdown",
   "metadata": {},
   "source": [
    "## Transformation of In-Sample Data for Running the Model"
   ]
  },
  {
   "cell_type": "code",
   "execution_count": 16,
   "metadata": {},
   "outputs": [],
   "source": [
    "# transforming variables to include the attribute name and attribute value\n",
    "def variable_transformations(df):\n",
    "    df['AIRCRAFT'] = 'AIRCRAFT | ' + df['AIRCRAFT'].astype(str)\n",
    "    df['FROMAIRPORT'] = 'FROMAIR | ' + df['FROMAIRPORT'].astype(str)\n",
    "    df['TOAIRPORT'] = 'TOAIR | ' + df['TOAIRPORT'].astype(str)\n",
    "    df['AirTime_bin'] = 'AIRTIME_BIN | ' + df['AirTime_bin'].astype(str)"
   ]
  },
  {
   "cell_type": "code",
   "execution_count": 17,
   "metadata": {},
   "outputs": [
    {
     "data": {
      "text/html": [
       "<div>\n",
       "<style scoped>\n",
       "    .dataframe tbody tr th:only-of-type {\n",
       "        vertical-align: middle;\n",
       "    }\n",
       "\n",
       "    .dataframe tbody tr th {\n",
       "        vertical-align: top;\n",
       "    }\n",
       "\n",
       "    .dataframe thead th {\n",
       "        text-align: right;\n",
       "    }\n",
       "</style>\n",
       "<table border=\"1\" class=\"dataframe\">\n",
       "  <thead>\n",
       "    <tr style=\"text-align: right;\">\n",
       "      <th></th>\n",
       "      <th>ID</th>\n",
       "      <th>AIRCRAFT</th>\n",
       "      <th>FROMAIRPORT</th>\n",
       "      <th>TOAIRPORT</th>\n",
       "      <th>DEPARTURETIMEUTC</th>\n",
       "      <th>ARRTIMEUTC</th>\n",
       "      <th>OCCUPIED_FLAG</th>\n",
       "      <th>AirTime</th>\n",
       "      <th>AirTime_bin</th>\n",
       "    </tr>\n",
       "  </thead>\n",
       "  <tbody>\n",
       "    <tr>\n",
       "      <th>0</th>\n",
       "      <td>1</td>\n",
       "      <td>AIRCRAFT | NRG001</td>\n",
       "      <td>FROMAIR | KTTN</td>\n",
       "      <td>TOAIR | KSPI</td>\n",
       "      <td>2019-06-02 11:17:00</td>\n",
       "      <td>2019-06-02 13:29:00</td>\n",
       "      <td>0</td>\n",
       "      <td>2.200000</td>\n",
       "      <td>AIRTIME_BIN | 4</td>\n",
       "    </tr>\n",
       "    <tr>\n",
       "      <th>1</th>\n",
       "      <td>2</td>\n",
       "      <td>AIRCRAFT | NRG001</td>\n",
       "      <td>FROMAIR | KSPI</td>\n",
       "      <td>TOAIR | KAPF</td>\n",
       "      <td>2019-06-02 14:50:00</td>\n",
       "      <td>2019-06-02 17:15:00</td>\n",
       "      <td>1</td>\n",
       "      <td>2.416667</td>\n",
       "      <td>AIRTIME_BIN | 4</td>\n",
       "    </tr>\n",
       "    <tr>\n",
       "      <th>2</th>\n",
       "      <td>3</td>\n",
       "      <td>AIRCRAFT | NRG001</td>\n",
       "      <td>FROMAIR | KAPF</td>\n",
       "      <td>TOAIR | KFDK</td>\n",
       "      <td>2019-06-02 18:52:00</td>\n",
       "      <td>2019-06-02 21:36:00</td>\n",
       "      <td>1</td>\n",
       "      <td>2.733333</td>\n",
       "      <td>AIRTIME_BIN | 5</td>\n",
       "    </tr>\n",
       "    <tr>\n",
       "      <th>3</th>\n",
       "      <td>4</td>\n",
       "      <td>AIRCRAFT | NRG001</td>\n",
       "      <td>FROMAIR | KFDK</td>\n",
       "      <td>TOAIR | KMVY</td>\n",
       "      <td>2019-06-03 11:48:00</td>\n",
       "      <td>2019-06-03 13:00:00</td>\n",
       "      <td>0</td>\n",
       "      <td>1.200000</td>\n",
       "      <td>AIRTIME_BIN | 2</td>\n",
       "    </tr>\n",
       "    <tr>\n",
       "      <th>4</th>\n",
       "      <td>5</td>\n",
       "      <td>AIRCRAFT | NRG001</td>\n",
       "      <td>FROMAIR | KMVY</td>\n",
       "      <td>TOAIR | KSDF</td>\n",
       "      <td>2019-06-03 13:46:00</td>\n",
       "      <td>2019-06-03 16:20:00</td>\n",
       "      <td>1</td>\n",
       "      <td>2.566667</td>\n",
       "      <td>AIRTIME_BIN | 5</td>\n",
       "    </tr>\n",
       "  </tbody>\n",
       "</table>\n",
       "</div>"
      ],
      "text/plain": [
       "   ID           AIRCRAFT     FROMAIRPORT     TOAIRPORT    DEPARTURETIMEUTC  \\\n",
       "0   1  AIRCRAFT | NRG001  FROMAIR | KTTN  TOAIR | KSPI 2019-06-02 11:17:00   \n",
       "1   2  AIRCRAFT | NRG001  FROMAIR | KSPI  TOAIR | KAPF 2019-06-02 14:50:00   \n",
       "2   3  AIRCRAFT | NRG001  FROMAIR | KAPF  TOAIR | KFDK 2019-06-02 18:52:00   \n",
       "3   4  AIRCRAFT | NRG001  FROMAIR | KFDK  TOAIR | KMVY 2019-06-03 11:48:00   \n",
       "4   5  AIRCRAFT | NRG001  FROMAIR | KMVY  TOAIR | KSDF 2019-06-03 13:46:00   \n",
       "\n",
       "           ARRTIMEUTC  OCCUPIED_FLAG   AirTime      AirTime_bin  \n",
       "0 2019-06-02 13:29:00              0  2.200000  AIRTIME_BIN | 4  \n",
       "1 2019-06-02 17:15:00              1  2.416667  AIRTIME_BIN | 4  \n",
       "2 2019-06-02 21:36:00              1  2.733333  AIRTIME_BIN | 5  \n",
       "3 2019-06-03 13:00:00              0  1.200000  AIRTIME_BIN | 2  \n",
       "4 2019-06-03 16:20:00              1  2.566667  AIRTIME_BIN | 5  "
      ]
     },
     "metadata": {},
     "output_type": "display_data"
    },
    {
     "data": {
      "text/html": [
       "<div>\n",
       "<style scoped>\n",
       "    .dataframe tbody tr th:only-of-type {\n",
       "        vertical-align: middle;\n",
       "    }\n",
       "\n",
       "    .dataframe tbody tr th {\n",
       "        vertical-align: top;\n",
       "    }\n",
       "\n",
       "    .dataframe thead th {\n",
       "        text-align: right;\n",
       "    }\n",
       "</style>\n",
       "<table border=\"1\" class=\"dataframe\">\n",
       "  <thead>\n",
       "    <tr style=\"text-align: right;\">\n",
       "      <th></th>\n",
       "      <th>ID</th>\n",
       "      <th>AIRCRAFT</th>\n",
       "      <th>FROMAIRPORT</th>\n",
       "      <th>TOAIRPORT</th>\n",
       "      <th>DEPARTURETIMEUTC</th>\n",
       "      <th>ARRTIMEUTC</th>\n",
       "      <th>AirTime</th>\n",
       "      <th>AirTime_bin</th>\n",
       "    </tr>\n",
       "  </thead>\n",
       "  <tbody>\n",
       "    <tr>\n",
       "      <th>0</th>\n",
       "      <td>1</td>\n",
       "      <td>AIRCRAFT | NRG001</td>\n",
       "      <td>FROMAIR | KPSM</td>\n",
       "      <td>TOAIR | KTTN</td>\n",
       "      <td>2019-12-15 23:21:00</td>\n",
       "      <td>2019-12-16 00:39:00</td>\n",
       "      <td>1.300000</td>\n",
       "      <td>AIRTIME_BIN | 2</td>\n",
       "    </tr>\n",
       "    <tr>\n",
       "      <th>1</th>\n",
       "      <td>2</td>\n",
       "      <td>AIRCRAFT | NRG001</td>\n",
       "      <td>FROMAIR | KTTN</td>\n",
       "      <td>TOAIR | KBTV</td>\n",
       "      <td>2019-12-16 17:43:00</td>\n",
       "      <td>2019-12-16 18:51:00</td>\n",
       "      <td>1.133333</td>\n",
       "      <td>AIRTIME_BIN | 2</td>\n",
       "    </tr>\n",
       "    <tr>\n",
       "      <th>2</th>\n",
       "      <td>3</td>\n",
       "      <td>AIRCRAFT | NRG001</td>\n",
       "      <td>FROMAIR | KBTV</td>\n",
       "      <td>TOAIR | KPWM</td>\n",
       "      <td>2019-12-16 21:41:00</td>\n",
       "      <td>2019-12-16 22:23:00</td>\n",
       "      <td>0.700000</td>\n",
       "      <td>AIRTIME_BIN | 1</td>\n",
       "    </tr>\n",
       "    <tr>\n",
       "      <th>3</th>\n",
       "      <td>4</td>\n",
       "      <td>AIRCRAFT | NRG001</td>\n",
       "      <td>FROMAIR | KPWM</td>\n",
       "      <td>TOAIR | KBTV</td>\n",
       "      <td>2019-12-17 01:59:00</td>\n",
       "      <td>2019-12-17 02:42:00</td>\n",
       "      <td>0.716667</td>\n",
       "      <td>AIRTIME_BIN | 1</td>\n",
       "    </tr>\n",
       "    <tr>\n",
       "      <th>4</th>\n",
       "      <td>5</td>\n",
       "      <td>AIRCRAFT | NRG001</td>\n",
       "      <td>FROMAIR | KBTV</td>\n",
       "      <td>TOAIR | KTEB</td>\n",
       "      <td>2019-12-17 19:45:00</td>\n",
       "      <td>2019-12-17 21:01:00</td>\n",
       "      <td>1.266667</td>\n",
       "      <td>AIRTIME_BIN | 2</td>\n",
       "    </tr>\n",
       "  </tbody>\n",
       "</table>\n",
       "</div>"
      ],
      "text/plain": [
       "   ID           AIRCRAFT     FROMAIRPORT     TOAIRPORT    DEPARTURETIMEUTC  \\\n",
       "0   1  AIRCRAFT | NRG001  FROMAIR | KPSM  TOAIR | KTTN 2019-12-15 23:21:00   \n",
       "1   2  AIRCRAFT | NRG001  FROMAIR | KTTN  TOAIR | KBTV 2019-12-16 17:43:00   \n",
       "2   3  AIRCRAFT | NRG001  FROMAIR | KBTV  TOAIR | KPWM 2019-12-16 21:41:00   \n",
       "3   4  AIRCRAFT | NRG001  FROMAIR | KPWM  TOAIR | KBTV 2019-12-17 01:59:00   \n",
       "4   5  AIRCRAFT | NRG001  FROMAIR | KBTV  TOAIR | KTEB 2019-12-17 19:45:00   \n",
       "\n",
       "           ARRTIMEUTC   AirTime      AirTime_bin  \n",
       "0 2019-12-16 00:39:00  1.300000  AIRTIME_BIN | 2  \n",
       "1 2019-12-16 18:51:00  1.133333  AIRTIME_BIN | 2  \n",
       "2 2019-12-16 22:23:00  0.700000  AIRTIME_BIN | 1  \n",
       "3 2019-12-17 02:42:00  0.716667  AIRTIME_BIN | 1  \n",
       "4 2019-12-17 21:01:00  1.266667  AIRTIME_BIN | 2  "
      ]
     },
     "metadata": {},
     "output_type": "display_data"
    }
   ],
   "source": [
    "variable_transformations(training)\n",
    "variable_transformations(prediction)\n",
    "\n",
    "display(training.head())\n",
    "display(prediction.head())"
   ]
  },
  {
   "cell_type": "code",
   "execution_count": 18,
   "metadata": {},
   "outputs": [],
   "source": [
    "# df.set_index(['ID','OCCUPIED_FLAG'], inplace = True)\n",
    "# train_data = pd.concat([df['AIRCRAFT'],df['FROMAIRPORT'],df['TOAIRPORT'],df['AirTime_bin']])\\\n",
    "# .rename(columns={\"0\":\"att_nv\"}).reset_index()\n",
    "\n",
    "# unpivoting the in sample dataframe to have ID, class (OCCUPIED_FLAG), and attribute name + value\n",
    "columns = ['AIRCRAFT','FROMAIRPORT','TOAIRPORT','AirTime_bin']\n",
    "frames=[training[['ID','OCCUPIED_FLAG',column]].rename(columns={column:'att_nv'}) for column in columns]\n",
    "in_sample=pd.concat(frames)"
   ]
  },
  {
   "cell_type": "code",
   "execution_count": 19,
   "metadata": {},
   "outputs": [
    {
     "data": {
      "text/html": [
       "<div>\n",
       "<style scoped>\n",
       "    .dataframe tbody tr th:only-of-type {\n",
       "        vertical-align: middle;\n",
       "    }\n",
       "\n",
       "    .dataframe tbody tr th {\n",
       "        vertical-align: top;\n",
       "    }\n",
       "\n",
       "    .dataframe thead th {\n",
       "        text-align: right;\n",
       "    }\n",
       "</style>\n",
       "<table border=\"1\" class=\"dataframe\">\n",
       "  <thead>\n",
       "    <tr style=\"text-align: right;\">\n",
       "      <th></th>\n",
       "      <th>ID</th>\n",
       "      <th>OCCUPIED_FLAG</th>\n",
       "      <th>att_nv</th>\n",
       "    </tr>\n",
       "  </thead>\n",
       "  <tbody>\n",
       "    <tr>\n",
       "      <th>0</th>\n",
       "      <td>1</td>\n",
       "      <td>0</td>\n",
       "      <td>AIRCRAFT | NRG001</td>\n",
       "    </tr>\n",
       "    <tr>\n",
       "      <th>1</th>\n",
       "      <td>2</td>\n",
       "      <td>1</td>\n",
       "      <td>AIRCRAFT | NRG001</td>\n",
       "    </tr>\n",
       "    <tr>\n",
       "      <th>2</th>\n",
       "      <td>3</td>\n",
       "      <td>1</td>\n",
       "      <td>AIRCRAFT | NRG001</td>\n",
       "    </tr>\n",
       "    <tr>\n",
       "      <th>3</th>\n",
       "      <td>4</td>\n",
       "      <td>0</td>\n",
       "      <td>AIRCRAFT | NRG001</td>\n",
       "    </tr>\n",
       "    <tr>\n",
       "      <th>4</th>\n",
       "      <td>5</td>\n",
       "      <td>1</td>\n",
       "      <td>AIRCRAFT | NRG001</td>\n",
       "    </tr>\n",
       "    <tr>\n",
       "      <th>...</th>\n",
       "      <td>...</td>\n",
       "      <td>...</td>\n",
       "      <td>...</td>\n",
       "    </tr>\n",
       "    <tr>\n",
       "      <th>7585</th>\n",
       "      <td>7586</td>\n",
       "      <td>1</td>\n",
       "      <td>AIRTIME_BIN | 2</td>\n",
       "    </tr>\n",
       "    <tr>\n",
       "      <th>7586</th>\n",
       "      <td>7587</td>\n",
       "      <td>0</td>\n",
       "      <td>AIRTIME_BIN | 3</td>\n",
       "    </tr>\n",
       "    <tr>\n",
       "      <th>7587</th>\n",
       "      <td>7588</td>\n",
       "      <td>1</td>\n",
       "      <td>AIRTIME_BIN | 2</td>\n",
       "    </tr>\n",
       "    <tr>\n",
       "      <th>7588</th>\n",
       "      <td>7589</td>\n",
       "      <td>1</td>\n",
       "      <td>AIRTIME_BIN | 3</td>\n",
       "    </tr>\n",
       "    <tr>\n",
       "      <th>7589</th>\n",
       "      <td>7590</td>\n",
       "      <td>0</td>\n",
       "      <td>AIRTIME_BIN | 5</td>\n",
       "    </tr>\n",
       "  </tbody>\n",
       "</table>\n",
       "<p>30360 rows × 3 columns</p>\n",
       "</div>"
      ],
      "text/plain": [
       "        ID  OCCUPIED_FLAG             att_nv\n",
       "0        1              0  AIRCRAFT | NRG001\n",
       "1        2              1  AIRCRAFT | NRG001\n",
       "2        3              1  AIRCRAFT | NRG001\n",
       "3        4              0  AIRCRAFT | NRG001\n",
       "4        5              1  AIRCRAFT | NRG001\n",
       "...    ...            ...                ...\n",
       "7585  7586              1    AIRTIME_BIN | 2\n",
       "7586  7587              0    AIRTIME_BIN | 3\n",
       "7587  7588              1    AIRTIME_BIN | 2\n",
       "7588  7589              1    AIRTIME_BIN | 3\n",
       "7589  7590              0    AIRTIME_BIN | 5\n",
       "\n",
       "[30360 rows x 3 columns]"
      ]
     },
     "execution_count": 19,
     "metadata": {},
     "output_type": "execute_result"
    }
   ],
   "source": [
    "in_sample"
   ]
  },
  {
   "cell_type": "code",
   "execution_count": 20,
   "metadata": {},
   "outputs": [],
   "source": [
    "# unpivoting the out of sample dataframe to have ID, class (OCCUPIED_FLAG), and attribute name + value\n",
    "frames=[prediction[['ID',column]].rename(columns={column:'att_nv'}) for column in columns]\n",
    "out_sample=pd.concat(frames)"
   ]
  },
  {
   "cell_type": "code",
   "execution_count": 21,
   "metadata": {},
   "outputs": [
    {
     "data": {
      "text/html": [
       "<div>\n",
       "<style scoped>\n",
       "    .dataframe tbody tr th:only-of-type {\n",
       "        vertical-align: middle;\n",
       "    }\n",
       "\n",
       "    .dataframe tbody tr th {\n",
       "        vertical-align: top;\n",
       "    }\n",
       "\n",
       "    .dataframe thead th {\n",
       "        text-align: right;\n",
       "    }\n",
       "</style>\n",
       "<table border=\"1\" class=\"dataframe\">\n",
       "  <thead>\n",
       "    <tr style=\"text-align: right;\">\n",
       "      <th></th>\n",
       "      <th>ID</th>\n",
       "      <th>att_nv</th>\n",
       "    </tr>\n",
       "  </thead>\n",
       "  <tbody>\n",
       "    <tr>\n",
       "      <th>0</th>\n",
       "      <td>1</td>\n",
       "      <td>AIRCRAFT | NRG001</td>\n",
       "    </tr>\n",
       "    <tr>\n",
       "      <th>1</th>\n",
       "      <td>2</td>\n",
       "      <td>AIRCRAFT | NRG001</td>\n",
       "    </tr>\n",
       "    <tr>\n",
       "      <th>2</th>\n",
       "      <td>3</td>\n",
       "      <td>AIRCRAFT | NRG001</td>\n",
       "    </tr>\n",
       "    <tr>\n",
       "      <th>3</th>\n",
       "      <td>4</td>\n",
       "      <td>AIRCRAFT | NRG001</td>\n",
       "    </tr>\n",
       "    <tr>\n",
       "      <th>4</th>\n",
       "      <td>5</td>\n",
       "      <td>AIRCRAFT | NRG001</td>\n",
       "    </tr>\n",
       "  </tbody>\n",
       "</table>\n",
       "</div>"
      ],
      "text/plain": [
       "   ID             att_nv\n",
       "0   1  AIRCRAFT | NRG001\n",
       "1   2  AIRCRAFT | NRG001\n",
       "2   3  AIRCRAFT | NRG001\n",
       "3   4  AIRCRAFT | NRG001\n",
       "4   5  AIRCRAFT | NRG001"
      ]
     },
     "execution_count": 21,
     "metadata": {},
     "output_type": "execute_result"
    }
   ],
   "source": [
    "out_sample.head()"
   ]
  },
  {
   "cell_type": "code",
   "execution_count": 22,
   "metadata": {},
   "outputs": [
    {
     "data": {
      "text/html": [
       "<div>\n",
       "<style scoped>\n",
       "    .dataframe tbody tr th:only-of-type {\n",
       "        vertical-align: middle;\n",
       "    }\n",
       "\n",
       "    .dataframe tbody tr th {\n",
       "        vertical-align: top;\n",
       "    }\n",
       "\n",
       "    .dataframe thead th {\n",
       "        text-align: right;\n",
       "    }\n",
       "</style>\n",
       "<table border=\"1\" class=\"dataframe\">\n",
       "  <thead>\n",
       "    <tr style=\"text-align: right;\">\n",
       "      <th></th>\n",
       "      <th>ID</th>\n",
       "      <th>OCCUPIED_FLAG</th>\n",
       "      <th>att_nv</th>\n",
       "    </tr>\n",
       "  </thead>\n",
       "  <tbody>\n",
       "    <tr>\n",
       "      <th>1</th>\n",
       "      <td>2</td>\n",
       "      <td>1</td>\n",
       "      <td>AIRCRAFT | NRG001</td>\n",
       "    </tr>\n",
       "    <tr>\n",
       "      <th>1</th>\n",
       "      <td>2</td>\n",
       "      <td>1</td>\n",
       "      <td>FROMAIR | KSPI</td>\n",
       "    </tr>\n",
       "    <tr>\n",
       "      <th>1</th>\n",
       "      <td>2</td>\n",
       "      <td>1</td>\n",
       "      <td>TOAIR | KAPF</td>\n",
       "    </tr>\n",
       "    <tr>\n",
       "      <th>1</th>\n",
       "      <td>2</td>\n",
       "      <td>1</td>\n",
       "      <td>AIRTIME_BIN | 4</td>\n",
       "    </tr>\n",
       "  </tbody>\n",
       "</table>\n",
       "</div>"
      ],
      "text/plain": [
       "   ID  OCCUPIED_FLAG             att_nv\n",
       "1   2              1  AIRCRAFT | NRG001\n",
       "1   2              1     FROMAIR | KSPI\n",
       "1   2              1       TOAIR | KAPF\n",
       "1   2              1    AIRTIME_BIN | 4"
      ]
     },
     "execution_count": 22,
     "metadata": {},
     "output_type": "execute_result"
    }
   ],
   "source": [
    "in_sample.loc[(in_sample['ID'] == 2)]"
   ]
  },
  {
   "cell_type": "code",
   "execution_count": 23,
   "metadata": {},
   "outputs": [],
   "source": [
    "# defining a function to create a specifically formatted dictionary out of the in sample data frame\n",
    "# for each ID, all associated attribute name + value dummy pairs will be given a value of 1\n",
    "def taxonomy_dict(data):\n",
    "    taxonomy_dict = {}\n",
    "    for index, row in data.iterrows():\n",
    "        row_list = row.values.tolist()\n",
    "        ID = str(row_list[0])\n",
    "        OCCUPIED_FLAG = row_list[1]\n",
    "        t_code = row_list[2]\n",
    "        if ID not in taxonomy_dict:\n",
    "            taxonomy_dict[ID] = [int(OCCUPIED_FLAG),{}]\n",
    "        taxonomy_dict[ID][1][t_code]=1\n",
    "    return taxonomy_dict"
   ]
  },
  {
   "cell_type": "code",
   "execution_count": 24,
   "metadata": {},
   "outputs": [],
   "source": [
    "model_data = taxonomy_dict(in_sample)"
   ]
  },
  {
   "cell_type": "markdown",
   "metadata": {},
   "source": [
    "## Running the LogReg Classifer on the Prepared In-Sample Data"
   ]
  },
  {
   "cell_type": "code",
   "execution_count": 25,
   "metadata": {},
   "outputs": [],
   "source": [
    "# creating the training and testing sets within the in sample data\n",
    "feature_learner = DictVectorizer()\n",
    "X = feature_learner.fit_transform(x[1] for x in model_data.values())\n",
    "y = [x[0] for x in model_data.values()]\n",
    "# X_oop = feature_learner.transform(x[1] for x in test_data.values())\n",
    "# y_oop = [x[0] for x in test_data.values()]\n",
    "X_train, X_test, y_train, y_test = train_test_split(X,y,test_size=0.4,random_state=1)"
   ]
  },
  {
   "cell_type": "code",
   "execution_count": 26,
   "metadata": {},
   "outputs": [
    {
     "name": "stdout",
     "output_type": "stream",
     "text": [
      "\tROC AUC score: 0.71\n"
     ]
    }
   ],
   "source": [
    "# fitting logistic regression to the in sample test data\n",
    "# using L2 because \n",
    "# some manual grid search by changing the value of C to see if regularization strength has a major impact on ROC AUC\n",
    "logreg=LogisticRegression(penalty='l2',C=.0009,class_weight='balanced',fit_intercept=True)\n",
    "logreg.fit(X_train,y_train)\n",
    "y_predicted = logreg.predict(X_test)\n",
    "y_prob = logreg.predict_proba(X_test)\n",
    "\n",
    "print('\\tROC AUC score: '+str(round(roc_auc_score(y_test,y_predicted),2)))"
   ]
  },
  {
   "cell_type": "markdown",
   "metadata": {},
   "source": [
    "## Applying Model Output on Out-of-Sample Data"
   ]
  },
  {
   "cell_type": "code",
   "execution_count": 27,
   "metadata": {},
   "outputs": [
    {
     "data": {
      "text/html": [
       "<div>\n",
       "<style scoped>\n",
       "    .dataframe tbody tr th:only-of-type {\n",
       "        vertical-align: middle;\n",
       "    }\n",
       "\n",
       "    .dataframe tbody tr th {\n",
       "        vertical-align: top;\n",
       "    }\n",
       "\n",
       "    .dataframe thead th {\n",
       "        text-align: right;\n",
       "    }\n",
       "</style>\n",
       "<table border=\"1\" class=\"dataframe\">\n",
       "  <thead>\n",
       "    <tr style=\"text-align: right;\">\n",
       "      <th></th>\n",
       "      <th>coefficient</th>\n",
       "      <th>attribute</th>\n",
       "    </tr>\n",
       "  </thead>\n",
       "  <tbody>\n",
       "    <tr>\n",
       "      <th>0</th>\n",
       "      <td>-0.002499</td>\n",
       "      <td>AIRCRAFT | NRG001</td>\n",
       "    </tr>\n",
       "    <tr>\n",
       "      <th>1</th>\n",
       "      <td>0.003343</td>\n",
       "      <td>AIRCRAFT | NRG002</td>\n",
       "    </tr>\n",
       "    <tr>\n",
       "      <th>2</th>\n",
       "      <td>-0.006064</td>\n",
       "      <td>AIRCRAFT | NRG003</td>\n",
       "    </tr>\n",
       "    <tr>\n",
       "      <th>3</th>\n",
       "      <td>0.002489</td>\n",
       "      <td>AIRCRAFT | NRG004</td>\n",
       "    </tr>\n",
       "    <tr>\n",
       "      <th>4</th>\n",
       "      <td>0.006296</td>\n",
       "      <td>AIRCRAFT | NRG005</td>\n",
       "    </tr>\n",
       "    <tr>\n",
       "      <th>...</th>\n",
       "      <td>...</td>\n",
       "      <td>...</td>\n",
       "    </tr>\n",
       "    <tr>\n",
       "      <th>1011</th>\n",
       "      <td>-0.000497</td>\n",
       "      <td>TOAIR | KZZV</td>\n",
       "    </tr>\n",
       "    <tr>\n",
       "      <th>1012</th>\n",
       "      <td>0.000016</td>\n",
       "      <td>TOAIR | MYAM</td>\n",
       "    </tr>\n",
       "    <tr>\n",
       "      <th>1013</th>\n",
       "      <td>-0.000538</td>\n",
       "      <td>TOAIR | MYAT</td>\n",
       "    </tr>\n",
       "    <tr>\n",
       "      <th>1014</th>\n",
       "      <td>0.000388</td>\n",
       "      <td>TOAIR | MYEH</td>\n",
       "    </tr>\n",
       "    <tr>\n",
       "      <th>1015</th>\n",
       "      <td>-0.000115</td>\n",
       "      <td>TOAIR | MYNN</td>\n",
       "    </tr>\n",
       "  </tbody>\n",
       "</table>\n",
       "<p>1016 rows × 2 columns</p>\n",
       "</div>"
      ],
      "text/plain": [
       "      coefficient          attribute\n",
       "0       -0.002499  AIRCRAFT | NRG001\n",
       "1        0.003343  AIRCRAFT | NRG002\n",
       "2       -0.006064  AIRCRAFT | NRG003\n",
       "3        0.002489  AIRCRAFT | NRG004\n",
       "4        0.006296  AIRCRAFT | NRG005\n",
       "...           ...                ...\n",
       "1011    -0.000497       TOAIR | KZZV\n",
       "1012     0.000016       TOAIR | MYAM\n",
       "1013    -0.000538       TOAIR | MYAT\n",
       "1014     0.000388       TOAIR | MYEH\n",
       "1015    -0.000115       TOAIR | MYNN\n",
       "\n",
       "[1016 rows x 2 columns]"
      ]
     },
     "execution_count": 27,
     "metadata": {},
     "output_type": "execute_result"
    }
   ],
   "source": [
    "# getting coefficient values of the attribute name+value pairs (the dummies in our model)\n",
    "coefficients = logreg.coef_[0]\n",
    "feature_names = feature_learner.get_feature_names()\n",
    "coeffs = pd.DataFrame(zip(coefficients,feature_names),columns=['coefficient','attribute'])\n",
    "coeffs"
   ]
  },
  {
   "cell_type": "code",
   "execution_count": 28,
   "metadata": {},
   "outputs": [
    {
     "name": "stdout",
     "output_type": "stream",
     "text": [
      "[-0.0024985   0.00334309 -0.00606384 ... -0.00053812  0.00038768\n",
      " -0.00011477]\n",
      "0.027375307061451075\n"
     ]
    }
   ],
   "source": [
    "# logreg.coef_\n",
    "print(logreg.coef_[0])\n",
    "\n",
    "# logreg.intercept_\n",
    "print(logreg.intercept_[0])"
   ]
  },
  {
   "cell_type": "code",
   "execution_count": 29,
   "metadata": {},
   "outputs": [
    {
     "data": {
      "text/html": [
       "<div>\n",
       "<style scoped>\n",
       "    .dataframe tbody tr th:only-of-type {\n",
       "        vertical-align: middle;\n",
       "    }\n",
       "\n",
       "    .dataframe tbody tr th {\n",
       "        vertical-align: top;\n",
       "    }\n",
       "\n",
       "    .dataframe thead th {\n",
       "        text-align: right;\n",
       "    }\n",
       "</style>\n",
       "<table border=\"1\" class=\"dataframe\">\n",
       "  <thead>\n",
       "    <tr style=\"text-align: right;\">\n",
       "      <th></th>\n",
       "      <th>ID</th>\n",
       "      <th>att_nv</th>\n",
       "      <th>coefficient</th>\n",
       "      <th>attribute</th>\n",
       "    </tr>\n",
       "  </thead>\n",
       "  <tbody>\n",
       "    <tr>\n",
       "      <th>0</th>\n",
       "      <td>1</td>\n",
       "      <td>AIRCRAFT | NRG001</td>\n",
       "      <td>-0.002499</td>\n",
       "      <td>AIRCRAFT | NRG001</td>\n",
       "    </tr>\n",
       "    <tr>\n",
       "      <th>1</th>\n",
       "      <td>2</td>\n",
       "      <td>AIRCRAFT | NRG001</td>\n",
       "      <td>-0.002499</td>\n",
       "      <td>AIRCRAFT | NRG001</td>\n",
       "    </tr>\n",
       "    <tr>\n",
       "      <th>2</th>\n",
       "      <td>3</td>\n",
       "      <td>AIRCRAFT | NRG001</td>\n",
       "      <td>-0.002499</td>\n",
       "      <td>AIRCRAFT | NRG001</td>\n",
       "    </tr>\n",
       "    <tr>\n",
       "      <th>3</th>\n",
       "      <td>4</td>\n",
       "      <td>AIRCRAFT | NRG001</td>\n",
       "      <td>-0.002499</td>\n",
       "      <td>AIRCRAFT | NRG001</td>\n",
       "    </tr>\n",
       "    <tr>\n",
       "      <th>4</th>\n",
       "      <td>5</td>\n",
       "      <td>AIRCRAFT | NRG001</td>\n",
       "      <td>-0.002499</td>\n",
       "      <td>AIRCRAFT | NRG001</td>\n",
       "    </tr>\n",
       "    <tr>\n",
       "      <th>...</th>\n",
       "      <td>...</td>\n",
       "      <td>...</td>\n",
       "      <td>...</td>\n",
       "      <td>...</td>\n",
       "    </tr>\n",
       "    <tr>\n",
       "      <th>2239</th>\n",
       "      <td>557</td>\n",
       "      <td>AIRTIME_BIN | 3</td>\n",
       "      <td>0.124737</td>\n",
       "      <td>AIRTIME_BIN | 3</td>\n",
       "    </tr>\n",
       "    <tr>\n",
       "      <th>2240</th>\n",
       "      <td>558</td>\n",
       "      <td>AIRTIME_BIN | 0</td>\n",
       "      <td>-0.057632</td>\n",
       "      <td>AIRTIME_BIN | 0</td>\n",
       "    </tr>\n",
       "    <tr>\n",
       "      <th>2241</th>\n",
       "      <td>559</td>\n",
       "      <td>AIRTIME_BIN | 2</td>\n",
       "      <td>-0.038494</td>\n",
       "      <td>AIRTIME_BIN | 2</td>\n",
       "    </tr>\n",
       "    <tr>\n",
       "      <th>2242</th>\n",
       "      <td>560</td>\n",
       "      <td>AIRTIME_BIN | 2</td>\n",
       "      <td>-0.038494</td>\n",
       "      <td>AIRTIME_BIN | 2</td>\n",
       "    </tr>\n",
       "    <tr>\n",
       "      <th>2243</th>\n",
       "      <td>561</td>\n",
       "      <td>AIRTIME_BIN | 1</td>\n",
       "      <td>-0.256128</td>\n",
       "      <td>AIRTIME_BIN | 1</td>\n",
       "    </tr>\n",
       "  </tbody>\n",
       "</table>\n",
       "<p>2244 rows × 4 columns</p>\n",
       "</div>"
      ],
      "text/plain": [
       "       ID             att_nv  coefficient          attribute\n",
       "0       1  AIRCRAFT | NRG001    -0.002499  AIRCRAFT | NRG001\n",
       "1       2  AIRCRAFT | NRG001    -0.002499  AIRCRAFT | NRG001\n",
       "2       3  AIRCRAFT | NRG001    -0.002499  AIRCRAFT | NRG001\n",
       "3       4  AIRCRAFT | NRG001    -0.002499  AIRCRAFT | NRG001\n",
       "4       5  AIRCRAFT | NRG001    -0.002499  AIRCRAFT | NRG001\n",
       "...   ...                ...          ...                ...\n",
       "2239  557    AIRTIME_BIN | 3     0.124737    AIRTIME_BIN | 3\n",
       "2240  558    AIRTIME_BIN | 0    -0.057632    AIRTIME_BIN | 0\n",
       "2241  559    AIRTIME_BIN | 2    -0.038494    AIRTIME_BIN | 2\n",
       "2242  560    AIRTIME_BIN | 2    -0.038494    AIRTIME_BIN | 2\n",
       "2243  561    AIRTIME_BIN | 1    -0.256128    AIRTIME_BIN | 1\n",
       "\n",
       "[2244 rows x 4 columns]"
      ]
     },
     "execution_count": 29,
     "metadata": {},
     "output_type": "execute_result"
    }
   ],
   "source": [
    "# applying the coefficient values to the out of sample IDs\n",
    "inputs_outputs = pd.merge(out_sample,coeffs,how='left',left_on=[\"att_nv\"],right_on=[\"attribute\"])\n",
    "inputs_outputs"
   ]
  },
  {
   "cell_type": "code",
   "execution_count": 30,
   "metadata": {},
   "outputs": [],
   "source": [
    "# combining the coefficient values for each ID to get a single calculated score (and adding the intercept)\n",
    "scored = inputs_outputs.groupby([\"ID\"],as_index=False).agg({'coefficient':'sum'})\n",
    "scored[\"coefficient\"] += logreg.intercept_[0]"
   ]
  },
  {
   "cell_type": "code",
   "execution_count": 31,
   "metadata": {},
   "outputs": [
    {
     "data": {
      "text/html": [
       "<div>\n",
       "<style scoped>\n",
       "    .dataframe tbody tr th:only-of-type {\n",
       "        vertical-align: middle;\n",
       "    }\n",
       "\n",
       "    .dataframe tbody tr th {\n",
       "        vertical-align: top;\n",
       "    }\n",
       "\n",
       "    .dataframe thead th {\n",
       "        text-align: right;\n",
       "    }\n",
       "</style>\n",
       "<table border=\"1\" class=\"dataframe\">\n",
       "  <thead>\n",
       "    <tr style=\"text-align: right;\">\n",
       "      <th></th>\n",
       "      <th>ID</th>\n",
       "      <th>coefficient</th>\n",
       "    </tr>\n",
       "  </thead>\n",
       "  <tbody>\n",
       "    <tr>\n",
       "      <th>0</th>\n",
       "      <td>1</td>\n",
       "      <td>-0.013252</td>\n",
       "    </tr>\n",
       "    <tr>\n",
       "      <th>1</th>\n",
       "      <td>2</td>\n",
       "      <td>-0.024248</td>\n",
       "    </tr>\n",
       "    <tr>\n",
       "      <th>2</th>\n",
       "      <td>3</td>\n",
       "      <td>-0.227989</td>\n",
       "    </tr>\n",
       "    <tr>\n",
       "      <th>3</th>\n",
       "      <td>4</td>\n",
       "      <td>-0.232406</td>\n",
       "    </tr>\n",
       "    <tr>\n",
       "      <th>4</th>\n",
       "      <td>5</td>\n",
       "      <td>-0.002456</td>\n",
       "    </tr>\n",
       "    <tr>\n",
       "      <th>...</th>\n",
       "      <td>...</td>\n",
       "      <td>...</td>\n",
       "    </tr>\n",
       "    <tr>\n",
       "      <th>556</th>\n",
       "      <td>557</td>\n",
       "      <td>0.150329</td>\n",
       "    </tr>\n",
       "    <tr>\n",
       "      <th>557</th>\n",
       "      <td>558</td>\n",
       "      <td>-0.031916</td>\n",
       "    </tr>\n",
       "    <tr>\n",
       "      <th>558</th>\n",
       "      <td>559</td>\n",
       "      <td>-0.014547</td>\n",
       "    </tr>\n",
       "    <tr>\n",
       "      <th>559</th>\n",
       "      <td>560</td>\n",
       "      <td>-0.014200</td>\n",
       "    </tr>\n",
       "    <tr>\n",
       "      <th>560</th>\n",
       "      <td>561</td>\n",
       "      <td>-0.227679</td>\n",
       "    </tr>\n",
       "  </tbody>\n",
       "</table>\n",
       "<p>561 rows × 2 columns</p>\n",
       "</div>"
      ],
      "text/plain": [
       "      ID  coefficient\n",
       "0      1    -0.013252\n",
       "1      2    -0.024248\n",
       "2      3    -0.227989\n",
       "3      4    -0.232406\n",
       "4      5    -0.002456\n",
       "..   ...          ...\n",
       "556  557     0.150329\n",
       "557  558    -0.031916\n",
       "558  559    -0.014547\n",
       "559  560    -0.014200\n",
       "560  561    -0.227679\n",
       "\n",
       "[561 rows x 2 columns]"
      ]
     },
     "execution_count": 31,
     "metadata": {},
     "output_type": "execute_result"
    }
   ],
   "source": [
    "scored"
   ]
  },
  {
   "cell_type": "code",
   "execution_count": 32,
   "metadata": {},
   "outputs": [
    {
     "data": {
      "text/html": [
       "<div>\n",
       "<style scoped>\n",
       "    .dataframe tbody tr th:only-of-type {\n",
       "        vertical-align: middle;\n",
       "    }\n",
       "\n",
       "    .dataframe tbody tr th {\n",
       "        vertical-align: top;\n",
       "    }\n",
       "\n",
       "    .dataframe thead th {\n",
       "        text-align: right;\n",
       "    }\n",
       "</style>\n",
       "<table border=\"1\" class=\"dataframe\">\n",
       "  <thead>\n",
       "    <tr style=\"text-align: right;\">\n",
       "      <th></th>\n",
       "      <th>ID</th>\n",
       "      <th>coefficient</th>\n",
       "      <th>prob</th>\n",
       "      <th>OCCUPIED_FLAG</th>\n",
       "    </tr>\n",
       "  </thead>\n",
       "  <tbody>\n",
       "    <tr>\n",
       "      <th>0</th>\n",
       "      <td>1</td>\n",
       "      <td>-0.013252</td>\n",
       "      <td>0.496687</td>\n",
       "      <td>0</td>\n",
       "    </tr>\n",
       "    <tr>\n",
       "      <th>1</th>\n",
       "      <td>2</td>\n",
       "      <td>-0.024248</td>\n",
       "      <td>0.493938</td>\n",
       "      <td>0</td>\n",
       "    </tr>\n",
       "    <tr>\n",
       "      <th>2</th>\n",
       "      <td>3</td>\n",
       "      <td>-0.227989</td>\n",
       "      <td>0.443248</td>\n",
       "      <td>0</td>\n",
       "    </tr>\n",
       "    <tr>\n",
       "      <th>3</th>\n",
       "      <td>4</td>\n",
       "      <td>-0.232406</td>\n",
       "      <td>0.442159</td>\n",
       "      <td>0</td>\n",
       "    </tr>\n",
       "    <tr>\n",
       "      <th>4</th>\n",
       "      <td>5</td>\n",
       "      <td>-0.002456</td>\n",
       "      <td>0.499386</td>\n",
       "      <td>0</td>\n",
       "    </tr>\n",
       "    <tr>\n",
       "      <th>...</th>\n",
       "      <td>...</td>\n",
       "      <td>...</td>\n",
       "      <td>...</td>\n",
       "      <td>...</td>\n",
       "    </tr>\n",
       "    <tr>\n",
       "      <th>556</th>\n",
       "      <td>557</td>\n",
       "      <td>0.150329</td>\n",
       "      <td>0.537512</td>\n",
       "      <td>1</td>\n",
       "    </tr>\n",
       "    <tr>\n",
       "      <th>557</th>\n",
       "      <td>558</td>\n",
       "      <td>-0.031916</td>\n",
       "      <td>0.492022</td>\n",
       "      <td>0</td>\n",
       "    </tr>\n",
       "    <tr>\n",
       "      <th>558</th>\n",
       "      <td>559</td>\n",
       "      <td>-0.014547</td>\n",
       "      <td>0.496363</td>\n",
       "      <td>0</td>\n",
       "    </tr>\n",
       "    <tr>\n",
       "      <th>559</th>\n",
       "      <td>560</td>\n",
       "      <td>-0.014200</td>\n",
       "      <td>0.496450</td>\n",
       "      <td>0</td>\n",
       "    </tr>\n",
       "    <tr>\n",
       "      <th>560</th>\n",
       "      <td>561</td>\n",
       "      <td>-0.227679</td>\n",
       "      <td>0.443325</td>\n",
       "      <td>0</td>\n",
       "    </tr>\n",
       "  </tbody>\n",
       "</table>\n",
       "<p>561 rows × 4 columns</p>\n",
       "</div>"
      ],
      "text/plain": [
       "      ID  coefficient      prob  OCCUPIED_FLAG\n",
       "0      1    -0.013252  0.496687              0\n",
       "1      2    -0.024248  0.493938              0\n",
       "2      3    -0.227989  0.443248              0\n",
       "3      4    -0.232406  0.442159              0\n",
       "4      5    -0.002456  0.499386              0\n",
       "..   ...          ...       ...            ...\n",
       "556  557     0.150329  0.537512              1\n",
       "557  558    -0.031916  0.492022              0\n",
       "558  559    -0.014547  0.496363              0\n",
       "559  560    -0.014200  0.496450              0\n",
       "560  561    -0.227679  0.443325              0\n",
       "\n",
       "[561 rows x 4 columns]"
      ]
     },
     "execution_count": 32,
     "metadata": {},
     "output_type": "execute_result"
    }
   ],
   "source": [
    "# calculating a probability from the resultant score and assigning prob >= .5 to the occupied class\n",
    "scored[\"prob\"] = np.exp(scored['coefficient'])/(np.exp(scored['coefficient']) + 1)\n",
    "scored['OCCUPIED_FLAG'] = np.where(scored[\"prob\"]>=0.5,1,0)\n",
    "scored"
   ]
  },
  {
   "cell_type": "markdown",
   "metadata": {},
   "source": [
    "## Seeing the Results of Applying Model Outputs to Out-of-Sample Data"
   ]
  },
  {
   "cell_type": "code",
   "execution_count": 33,
   "metadata": {},
   "outputs": [
    {
     "data": {
      "text/plain": [
       "<AxesSubplot:ylabel='Frequency'>"
      ]
     },
     "execution_count": 33,
     "metadata": {},
     "output_type": "execute_result"
    },
    {
     "data": {
      "image/png": "[encoded data removed]",
      "text/plain": [
       "<Figure size 432x288 with 1 Axes>"
      ]
     },
     "metadata": {
      "needs_background": "light"
     },
     "output_type": "display_data"
    }
   ],
   "source": [
    "# seeing probability distribution in the out of sample data\n",
    "scored[\"prob\"].plot(kind='hist')"
   ]
  },
  {
   "cell_type": "code",
   "execution_count": 34,
   "metadata": {
    "scrolled": true
   },
   "outputs": [
    {
     "data": {
      "text/plain": [
       "<AxesSubplot:xlabel='OCCUPIED_FLAG'>"
      ]
     },
     "execution_count": 34,
     "metadata": {},
     "output_type": "execute_result"
    },
    {
     "data": {
      "image/png": "[encoded data removed]",
      "text/plain": [
       "<Figure size 432x288 with 1 Axes>"
      ]
     },
     "metadata": {
      "needs_background": "light"
     },
     "output_type": "display_data"
    }
   ],
   "source": [
    "# seeing resulting class distribution in the out of sample data\n",
    "# scored[\"OCCUPIED_FLAG\"] = scored[\"OCCUPIED_FLAG\"].apply(str)\n",
    "scored.groupby('OCCUPIED_FLAG').size().plot.bar()"
   ]
  },
  {
   "cell_type": "code",
   "execution_count": 35,
   "metadata": {},
   "outputs": [],
   "source": [
    "# outputing results to a CSV\n",
    "# scored[['ID','OCCUPIED_FLAG']].to_csv('prediction.csv',index=False)"
   ]
  }
 ],
 "metadata": {
  "kernelspec": {
   "display_name": "Python 3",
   "language": "python",
   "name": "python3"
  },
  "language_info": {
   "codemirror_mode": {
    "name": "ipython",
    "version": 3
   },
   "file_extension": ".py",
   "mimetype": "text/x-python",
   "name": "python",
   "nbconvert_exporter": "python",
   "pygments_lexer": "ipython3",
   "version": "3.6.7"
  }
 },
 "nbformat": 4,
 "nbformat_minor": 4
}
